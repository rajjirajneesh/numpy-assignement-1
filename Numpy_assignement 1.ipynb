{
 "cells": [
  {
   "cell_type": "code",
   "execution_count": 23,
   "id": "91dff126",
   "metadata": {},
   "outputs": [],
   "source": [
    "import numpy as np"
   ]
  },
  {
   "cell_type": "markdown",
   "id": "d23ae9a8",
   "metadata": {},
   "source": [
    "1- Given are 2 similar dimensional numpy arrays, how to get a numpy array output\n",
    "in which every element is an element-wise sum of the 2 numpy arrays?"
   ]
  },
  {
   "cell_type": "code",
   "execution_count": 4,
   "id": "8f810d33",
   "metadata": {},
   "outputs": [
    {
     "data": {
      "text/plain": [
       "array([[20, 23, 25],\n",
       "       [25, 29, 26]])"
      ]
     },
     "execution_count": 4,
     "metadata": {},
     "output_type": "execute_result"
    }
   ],
   "source": [
    "n1=np.array(([10,12,13],[11,14,15]))\n",
    "n2=np.array(([10,11,12],[14,15,11]))\n",
    "n3=np.add(n1,n2)\n",
    "n3"
   ]
  },
  {
   "cell_type": "markdown",
   "id": "0cad1eda",
   "metadata": {},
   "source": [
    "2- Given a numpy array (matrix), how to get a numpy array output which is equal to\n",
    "the original matrix multiplied by a scalar?"
   ]
  },
  {
   "cell_type": "code",
   "execution_count": 43,
   "id": "2e4373d4",
   "metadata": {},
   "outputs": [
    {
     "name": "stdout",
     "output_type": "stream",
     "text": [
      "[[10 12 13]\n",
      " [11 14 15]]\n"
     ]
    },
    {
     "data": {
      "text/plain": [
       "array([[100, 120, 130],\n",
       "       [110, 140, 150]])"
      ]
     },
     "execution_count": 43,
     "metadata": {},
     "output_type": "execute_result"
    }
   ],
   "source": [
    "a1=np.array(([10,12,13],[11,14,15]))\n",
    "print(a1)\n",
    "n4=a1*10\n",
    "n4"
   ]
  },
  {
   "cell_type": "markdown",
   "id": "06f7b86c",
   "metadata": {},
   "source": [
    "3- Create an identity matrix of dimension 4-by-4"
   ]
  },
  {
   "cell_type": "code",
   "execution_count": 24,
   "id": "1262dcc9",
   "metadata": {},
   "outputs": [
    {
     "data": {
      "text/plain": [
       "array([[1., 0., 0., 0.],\n",
       "       [0., 1., 0., 0.],\n",
       "       [0., 0., 1., 0.],\n",
       "       [0., 0., 0., 1.]])"
      ]
     },
     "execution_count": 24,
     "metadata": {},
     "output_type": "execute_result"
    }
   ],
   "source": [
    "np.eye(4,4)"
   ]
  },
  {
   "cell_type": "markdown",
   "id": "5f57404f",
   "metadata": {},
   "source": [
    "4- Convert a 1-D array to a 3-D array"
   ]
  },
  {
   "cell_type": "code",
   "execution_count": 18,
   "id": "5e226462",
   "metadata": {},
   "outputs": [
    {
     "data": {
      "text/plain": [
       "1"
      ]
     },
     "execution_count": 18,
     "metadata": {},
     "output_type": "execute_result"
    }
   ],
   "source": [
    "a_1d=np.array([1,2,3,4,5,6])\n",
    "a_1d.ndim\n"
   ]
  },
  {
   "cell_type": "code",
   "execution_count": 19,
   "id": "e0271047",
   "metadata": {},
   "outputs": [
    {
     "data": {
      "text/plain": [
       "array([[[1, 2, 3],\n",
       "        [4, 5, 6]]])"
      ]
     },
     "execution_count": 19,
     "metadata": {},
     "output_type": "execute_result"
    }
   ],
   "source": [
    "a_3d=np.reshape(a_1d,(1,2,3))\n"
   ]
  },
  {
   "cell_type": "code",
   "execution_count": 36,
   "id": "ea45f50b",
   "metadata": {},
   "outputs": [
    {
     "data": {
      "text/plain": [
       "3"
      ]
     },
     "execution_count": 36,
     "metadata": {},
     "output_type": "execute_result"
    }
   ],
   "source": [
    "a_3d.ndim"
   ]
  },
  {
   "cell_type": "markdown",
   "id": "5083e904",
   "metadata": {},
   "source": [
    "5- Convert a binary numpy array (containing only 0s and 1s) to a boolean numpy array"
   ]
  },
  {
   "cell_type": "code",
   "execution_count": 40,
   "id": "23f1daf2",
   "metadata": {},
   "outputs": [
    {
     "name": "stdout",
     "output_type": "stream",
     "text": [
      "[[1. 0. 0.]\n",
      " [0. 1. 0.]\n",
      " [0. 0. 1.]]\n"
     ]
    },
    {
     "data": {
      "text/plain": [
       "array([[ True, False, False],\n",
       "       [False,  True, False],\n",
       "       [False, False,  True]])"
      ]
     },
     "execution_count": 40,
     "metadata": {},
     "output_type": "execute_result"
    }
   ],
   "source": [
    "S1=np.eye(3,3)\n",
    "print(S1)\n",
    "S1.astype(bool)"
   ]
  },
  {
   "cell_type": "markdown",
   "id": "27bb273e",
   "metadata": {},
   "source": [
    "6- Convert all the elements of a numpy array from float to integer datatype\n"
   ]
  },
  {
   "cell_type": "code",
   "execution_count": 41,
   "id": "5d96b3b5",
   "metadata": {},
   "outputs": [
    {
     "name": "stdout",
     "output_type": "stream",
     "text": [
      "[[2.23 5.53]\n",
      " [5.5  6.2 ]]\n"
     ]
    },
    {
     "data": {
      "text/plain": [
       "array([[2, 5],\n",
       "       [5, 6]])"
      ]
     },
     "execution_count": 41,
     "metadata": {},
     "output_type": "execute_result"
    }
   ],
   "source": [
    "f=np.array([[2.23,5.53],[5.5,6.2]])\n",
    "print(f)\n",
    "f.astype(int)\n"
   ]
  },
  {
   "cell_type": "markdown",
   "id": "71394ba5",
   "metadata": {},
   "source": [
    "8- Output a sequence of equally gapped 5 numbers in the range 0 to 100 (both\n",
    "inclusive)"
   ]
  },
  {
   "cell_type": "code",
   "execution_count": 42,
   "id": "d71f4460",
   "metadata": {},
   "outputs": [
    {
     "data": {
      "text/plain": [
       "array([  0,  25,  50,  75, 100])"
      ]
     },
     "execution_count": 42,
     "metadata": {},
     "output_type": "execute_result"
    }
   ],
   "source": [
    "t=np.arange(0,101,25)\n",
    "t"
   ]
  },
  {
   "cell_type": "markdown",
   "id": "996b79ff",
   "metadata": {},
   "source": [
    "12- Multiply a 5x3 matrix by a 3x2 matrix (real matrix product)"
   ]
  },
  {
   "cell_type": "code",
   "execution_count": 38,
   "id": "7b6612ec",
   "metadata": {},
   "outputs": [
    {
     "data": {
      "text/plain": [
       "array([[0.6822284 , 0.99064124, 0.89652778],\n",
       "       [0.22362298, 0.32847781, 0.44419147],\n",
       "       [0.735811  , 0.4173623 , 0.19916957],\n",
       "       [0.74390166, 0.01630121, 0.61634627],\n",
       "       [0.56624505, 0.26700516, 0.74467394]])"
      ]
     },
     "execution_count": 38,
     "metadata": {},
     "output_type": "execute_result"
    }
   ],
   "source": [
    "x1=np.random.rand(5,3)\n",
    "x1"
   ]
  },
  {
   "cell_type": "code",
   "execution_count": 31,
   "id": "e35cedf8",
   "metadata": {
    "scrolled": true
   },
   "outputs": [
    {
     "data": {
      "text/plain": [
       "array([[0.96942689, 0.40506794],\n",
       "       [0.98784503, 0.69449103],\n",
       "       [0.59368114, 0.7835991 ]])"
      ]
     },
     "execution_count": 31,
     "metadata": {},
     "output_type": "execute_result"
    }
   ],
   "source": [
    "x2=np.random.rand(3,2)\n",
    "x2"
   ]
  },
  {
   "cell_type": "code",
   "execution_count": 33,
   "id": "426f04ca",
   "metadata": {},
   "outputs": [
    {
     "data": {
      "text/plain": [
       "array([[1.50648908, 1.01449879],\n",
       "       [0.96817004, 0.90830781],\n",
       "       [1.27645493, 1.01407625],\n",
       "       [0.95033562, 0.66121641],\n",
       "       [1.16428532, 0.98977596]])"
      ]
     },
     "execution_count": 33,
     "metadata": {},
     "output_type": "execute_result"
    }
   ],
   "source": [
    "x3=np.dot(x1,x2)\n",
    "x3"
   ]
  },
  {
   "cell_type": "code",
   "execution_count": null,
   "id": "4ab65277",
   "metadata": {},
   "outputs": [],
   "source": []
  },
  {
   "cell_type": "code",
   "execution_count": null,
   "id": "5ca3a044",
   "metadata": {},
   "outputs": [],
   "source": []
  }
 ],
 "metadata": {
  "kernelspec": {
   "display_name": "Python 3 (ipykernel)",
   "language": "python",
   "name": "python3"
  },
  "language_info": {
   "codemirror_mode": {
    "name": "ipython",
    "version": 3
   },
   "file_extension": ".py",
   "mimetype": "text/x-python",
   "name": "python",
   "nbconvert_exporter": "python",
   "pygments_lexer": "ipython3",
   "version": "3.10.7"
  }
 },
 "nbformat": 4,
 "nbformat_minor": 5
}
